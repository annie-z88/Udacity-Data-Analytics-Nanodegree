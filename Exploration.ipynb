{
 "cells": [
  {
   "cell_type": "markdown",
   "metadata": {},
   "source": [
    "# Ford GoBike Trips in January 2020\n",
    "## by Annie Z\n",
    "\n",
    "## Preliminary Wrangling\n",
    "\n",
    "> Bay Wheels is a bikeshare system that offers affordable and accessible transportation for Bay Area residents. Bay Wheels stations and bikes are available throughout San Francisco, the East Bay, and San Jose. For this project, I will be exploring and analyzing data from January 2020's Bay Wheels System dataset. Visualizations will explore and display the relationships between different variables."
   ]
  },
  {
   "cell_type": "code",
   "execution_count": 2,
   "metadata": {},
   "outputs": [],
   "source": [
    "\n",
    "import numpy as np\n",
    "import pandas as pd\n",
    "import matplotlib.pyplot as plt\n",
    "import seaborn as sb\n",
    "\n",
    "%matplotlib inline"
   ]
  },
  {
   "cell_type": "code",
   "execution_count": 3,
   "metadata": {},
   "outputs": [
    {
     "name": "stderr",
     "output_type": "stream",
     "text": [
      "/opt/anaconda3/lib/python3.7/site-packages/IPython/core/interactiveshell.py:3058: DtypeWarning: Columns (13) have mixed types. Specify dtype option on import or set low_memory=False.\n",
      "  interactivity=interactivity, compiler=compiler, result=result)\n"
     ]
    },
    {
     "data": {
      "text/html": [
       "<div>\n",
       "<style scoped>\n",
       "    .dataframe tbody tr th:only-of-type {\n",
       "        vertical-align: middle;\n",
       "    }\n",
       "\n",
       "    .dataframe tbody tr th {\n",
       "        vertical-align: top;\n",
       "    }\n",
       "\n",
       "    .dataframe thead th {\n",
       "        text-align: right;\n",
       "    }\n",
       "</style>\n",
       "<table border=\"1\" class=\"dataframe\">\n",
       "  <thead>\n",
       "    <tr style=\"text-align: right;\">\n",
       "      <th></th>\n",
       "      <th>duration_sec</th>\n",
       "      <th>start_time</th>\n",
       "      <th>end_time</th>\n",
       "      <th>start_station_id</th>\n",
       "      <th>start_station_name</th>\n",
       "      <th>start_station_latitude</th>\n",
       "      <th>start_station_longitude</th>\n",
       "      <th>end_station_id</th>\n",
       "      <th>end_station_name</th>\n",
       "      <th>end_station_latitude</th>\n",
       "      <th>end_station_longitude</th>\n",
       "      <th>bike_id</th>\n",
       "      <th>user_type</th>\n",
       "      <th>rental_access_method</th>\n",
       "    </tr>\n",
       "  </thead>\n",
       "  <tbody>\n",
       "    <tr>\n",
       "      <td>0</td>\n",
       "      <td>83118</td>\n",
       "      <td>2020-01-31 15:23:47.7330</td>\n",
       "      <td>2020-02-01 14:29:06.2630</td>\n",
       "      <td>400.0</td>\n",
       "      <td>Buchanan St at North Point St</td>\n",
       "      <td>37.804272</td>\n",
       "      <td>-122.433537</td>\n",
       "      <td>400.0</td>\n",
       "      <td>Buchanan St at North Point St</td>\n",
       "      <td>37.804272</td>\n",
       "      <td>-122.433537</td>\n",
       "      <td>13052</td>\n",
       "      <td>Customer</td>\n",
       "      <td>NaN</td>\n",
       "    </tr>\n",
       "    <tr>\n",
       "      <td>1</td>\n",
       "      <td>68239</td>\n",
       "      <td>2020-01-31 15:40:31.6160</td>\n",
       "      <td>2020-02-01 10:37:51.0000</td>\n",
       "      <td>99.0</td>\n",
       "      <td>Folsom St at 15th St</td>\n",
       "      <td>37.767037</td>\n",
       "      <td>-122.415443</td>\n",
       "      <td>99.0</td>\n",
       "      <td>Folsom St at 15th St</td>\n",
       "      <td>37.767037</td>\n",
       "      <td>-122.415443</td>\n",
       "      <td>12235</td>\n",
       "      <td>Subscriber</td>\n",
       "      <td>NaN</td>\n",
       "    </tr>\n",
       "    <tr>\n",
       "      <td>2</td>\n",
       "      <td>55407</td>\n",
       "      <td>2020-01-31 17:48:16.6350</td>\n",
       "      <td>2020-02-01 09:11:44.3170</td>\n",
       "      <td>197.0</td>\n",
       "      <td>El Embarcadero at Grand Ave</td>\n",
       "      <td>37.808848</td>\n",
       "      <td>-122.249680</td>\n",
       "      <td>197.0</td>\n",
       "      <td>El Embarcadero at Grand Ave</td>\n",
       "      <td>37.808848</td>\n",
       "      <td>-122.249680</td>\n",
       "      <td>12822</td>\n",
       "      <td>Customer</td>\n",
       "      <td>NaN</td>\n",
       "    </tr>\n",
       "    <tr>\n",
       "      <td>3</td>\n",
       "      <td>54929</td>\n",
       "      <td>2020-01-31 17:53:03.4130</td>\n",
       "      <td>2020-02-01 09:08:32.6340</td>\n",
       "      <td>197.0</td>\n",
       "      <td>El Embarcadero at Grand Ave</td>\n",
       "      <td>37.808848</td>\n",
       "      <td>-122.249680</td>\n",
       "      <td>197.0</td>\n",
       "      <td>El Embarcadero at Grand Ave</td>\n",
       "      <td>37.808848</td>\n",
       "      <td>-122.249680</td>\n",
       "      <td>11705</td>\n",
       "      <td>Customer</td>\n",
       "      <td>NaN</td>\n",
       "    </tr>\n",
       "    <tr>\n",
       "      <td>4</td>\n",
       "      <td>55700</td>\n",
       "      <td>2020-01-31 17:12:33.4600</td>\n",
       "      <td>2020-02-01 08:40:53.6460</td>\n",
       "      <td>12.0</td>\n",
       "      <td>Pier 1/2 at The Embarcadero</td>\n",
       "      <td>37.796389</td>\n",
       "      <td>-122.394586</td>\n",
       "      <td>371.0</td>\n",
       "      <td>Lombard St at Columbus Ave</td>\n",
       "      <td>37.802746</td>\n",
       "      <td>-122.413579</td>\n",
       "      <td>3673</td>\n",
       "      <td>Customer</td>\n",
       "      <td>NaN</td>\n",
       "    </tr>\n",
       "  </tbody>\n",
       "</table>\n",
       "</div>"
      ],
      "text/plain": [
       "   duration_sec                start_time                  end_time  \\\n",
       "0         83118  2020-01-31 15:23:47.7330  2020-02-01 14:29:06.2630   \n",
       "1         68239  2020-01-31 15:40:31.6160  2020-02-01 10:37:51.0000   \n",
       "2         55407  2020-01-31 17:48:16.6350  2020-02-01 09:11:44.3170   \n",
       "3         54929  2020-01-31 17:53:03.4130  2020-02-01 09:08:32.6340   \n",
       "4         55700  2020-01-31 17:12:33.4600  2020-02-01 08:40:53.6460   \n",
       "\n",
       "   start_station_id             start_station_name  start_station_latitude  \\\n",
       "0             400.0  Buchanan St at North Point St               37.804272   \n",
       "1              99.0           Folsom St at 15th St               37.767037   \n",
       "2             197.0    El Embarcadero at Grand Ave               37.808848   \n",
       "3             197.0    El Embarcadero at Grand Ave               37.808848   \n",
       "4              12.0    Pier 1/2 at The Embarcadero               37.796389   \n",
       "\n",
       "   start_station_longitude  end_station_id               end_station_name  \\\n",
       "0              -122.433537           400.0  Buchanan St at North Point St   \n",
       "1              -122.415443            99.0           Folsom St at 15th St   \n",
       "2              -122.249680           197.0    El Embarcadero at Grand Ave   \n",
       "3              -122.249680           197.0    El Embarcadero at Grand Ave   \n",
       "4              -122.394586           371.0     Lombard St at Columbus Ave   \n",
       "\n",
       "   end_station_latitude  end_station_longitude  bike_id   user_type  \\\n",
       "0             37.804272            -122.433537    13052    Customer   \n",
       "1             37.767037            -122.415443    12235  Subscriber   \n",
       "2             37.808848            -122.249680    12822    Customer   \n",
       "3             37.808848            -122.249680    11705    Customer   \n",
       "4             37.802746            -122.413579     3673    Customer   \n",
       "\n",
       "  rental_access_method  \n",
       "0                  NaN  \n",
       "1                  NaN  \n",
       "2                  NaN  \n",
       "3                  NaN  \n",
       "4                  NaN  "
      ]
     },
     "execution_count": 3,
     "metadata": {},
     "output_type": "execute_result"
    }
   ],
   "source": [
    "df=pd.read_csv('JAN 2020 baywheels-trip data.csv')\n",
    "df.head()"
   ]
  },
  {
   "cell_type": "code",
   "execution_count": 4,
   "metadata": {},
   "outputs": [
    {
     "name": "stdout",
     "output_type": "stream",
     "text": [
      "<class 'pandas.core.frame.DataFrame'>\n",
      "RangeIndex: 295854 entries, 0 to 295853\n",
      "Data columns (total 14 columns):\n",
      "duration_sec               295854 non-null int64\n",
      "start_time                 295854 non-null object\n",
      "end_time                   295854 non-null object\n",
      "start_station_id           146286 non-null float64\n",
      "start_station_name         146866 non-null object\n",
      "start_station_latitude     295854 non-null float64\n",
      "start_station_longitude    295854 non-null float64\n",
      "end_station_id             145934 non-null float64\n",
      "end_station_name           146511 non-null object\n",
      "end_station_latitude       295854 non-null float64\n",
      "end_station_longitude      295854 non-null float64\n",
      "bike_id                    295854 non-null int64\n",
      "user_type                  295854 non-null object\n",
      "rental_access_method       185746 non-null object\n",
      "dtypes: float64(6), int64(2), object(6)\n",
      "memory usage: 31.6+ MB\n"
     ]
    }
   ],
   "source": [
    "df.info()"
   ]
  },
  {
   "cell_type": "code",
   "execution_count": 5,
   "metadata": {},
   "outputs": [
    {
     "data": {
      "text/plain": [
       "0"
      ]
     },
     "execution_count": 5,
     "metadata": {},
     "output_type": "execute_result"
    }
   ],
   "source": [
    "#check for duplicated values\n",
    "df.duplicated().sum()"
   ]
  },
  {
   "cell_type": "code",
   "execution_count": 6,
   "metadata": {},
   "outputs": [
    {
     "data": {
      "text/html": [
       "<div>\n",
       "<style scoped>\n",
       "    .dataframe tbody tr th:only-of-type {\n",
       "        vertical-align: middle;\n",
       "    }\n",
       "\n",
       "    .dataframe tbody tr th {\n",
       "        vertical-align: top;\n",
       "    }\n",
       "\n",
       "    .dataframe thead th {\n",
       "        text-align: right;\n",
       "    }\n",
       "</style>\n",
       "<table border=\"1\" class=\"dataframe\">\n",
       "  <thead>\n",
       "    <tr style=\"text-align: right;\">\n",
       "      <th></th>\n",
       "      <th>duration_sec</th>\n",
       "      <th>start_station_id</th>\n",
       "      <th>start_station_latitude</th>\n",
       "      <th>start_station_longitude</th>\n",
       "      <th>end_station_id</th>\n",
       "      <th>end_station_latitude</th>\n",
       "      <th>end_station_longitude</th>\n",
       "      <th>bike_id</th>\n",
       "    </tr>\n",
       "  </thead>\n",
       "  <tbody>\n",
       "    <tr>\n",
       "      <td>count</td>\n",
       "      <td>295854.000000</td>\n",
       "      <td>146286.000000</td>\n",
       "      <td>295854.000000</td>\n",
       "      <td>295854.000000</td>\n",
       "      <td>145934.000000</td>\n",
       "      <td>295854.000000</td>\n",
       "      <td>295854.000000</td>\n",
       "      <td>295854.00000</td>\n",
       "    </tr>\n",
       "    <tr>\n",
       "      <td>mean</td>\n",
       "      <td>780.473193</td>\n",
       "      <td>168.900879</td>\n",
       "      <td>37.751277</td>\n",
       "      <td>-122.357866</td>\n",
       "      <td>161.061788</td>\n",
       "      <td>37.751261</td>\n",
       "      <td>-122.356994</td>\n",
       "      <td>321533.84539</td>\n",
       "    </tr>\n",
       "    <tr>\n",
       "      <td>std</td>\n",
       "      <td>2037.786317</td>\n",
       "      <td>141.956388</td>\n",
       "      <td>0.228337</td>\n",
       "      <td>0.650796</td>\n",
       "      <td>140.766154</td>\n",
       "      <td>0.238642</td>\n",
       "      <td>0.688512</td>\n",
       "      <td>307015.31534</td>\n",
       "    </tr>\n",
       "    <tr>\n",
       "      <td>min</td>\n",
       "      <td>60.000000</td>\n",
       "      <td>3.000000</td>\n",
       "      <td>0.000000</td>\n",
       "      <td>-122.513871</td>\n",
       "      <td>3.000000</td>\n",
       "      <td>0.000000</td>\n",
       "      <td>-122.513847</td>\n",
       "      <td>12.00000</td>\n",
       "    </tr>\n",
       "    <tr>\n",
       "      <td>25%</td>\n",
       "      <td>369.000000</td>\n",
       "      <td>53.000000</td>\n",
       "      <td>37.766214</td>\n",
       "      <td>-122.419481</td>\n",
       "      <td>43.000000</td>\n",
       "      <td>37.766376</td>\n",
       "      <td>-122.418306</td>\n",
       "      <td>11328.00000</td>\n",
       "    </tr>\n",
       "    <tr>\n",
       "      <td>50%</td>\n",
       "      <td>588.000000</td>\n",
       "      <td>120.000000</td>\n",
       "      <td>37.777158</td>\n",
       "      <td>-122.403234</td>\n",
       "      <td>113.000000</td>\n",
       "      <td>37.777370</td>\n",
       "      <td>-122.402717</td>\n",
       "      <td>279974.00000</td>\n",
       "    </tr>\n",
       "    <tr>\n",
       "      <td>75%</td>\n",
       "      <td>912.000000</td>\n",
       "      <td>263.000000</td>\n",
       "      <td>37.790102</td>\n",
       "      <td>-122.392450</td>\n",
       "      <td>250.000000</td>\n",
       "      <td>37.790492</td>\n",
       "      <td>-122.392546</td>\n",
       "      <td>545607.00000</td>\n",
       "    </tr>\n",
       "    <tr>\n",
       "      <td>max</td>\n",
       "      <td>811077.000000</td>\n",
       "      <td>506.000000</td>\n",
       "      <td>37.880222</td>\n",
       "      <td>0.000000</td>\n",
       "      <td>506.000000</td>\n",
       "      <td>37.927622</td>\n",
       "      <td>0.000000</td>\n",
       "      <td>999952.00000</td>\n",
       "    </tr>\n",
       "  </tbody>\n",
       "</table>\n",
       "</div>"
      ],
      "text/plain": [
       "        duration_sec  start_station_id  start_station_latitude  \\\n",
       "count  295854.000000     146286.000000           295854.000000   \n",
       "mean      780.473193        168.900879               37.751277   \n",
       "std      2037.786317        141.956388                0.228337   \n",
       "min        60.000000          3.000000                0.000000   \n",
       "25%       369.000000         53.000000               37.766214   \n",
       "50%       588.000000        120.000000               37.777158   \n",
       "75%       912.000000        263.000000               37.790102   \n",
       "max    811077.000000        506.000000               37.880222   \n",
       "\n",
       "       start_station_longitude  end_station_id  end_station_latitude  \\\n",
       "count            295854.000000   145934.000000         295854.000000   \n",
       "mean               -122.357866      161.061788             37.751261   \n",
       "std                   0.650796      140.766154              0.238642   \n",
       "min                -122.513871        3.000000              0.000000   \n",
       "25%                -122.419481       43.000000             37.766376   \n",
       "50%                -122.403234      113.000000             37.777370   \n",
       "75%                -122.392450      250.000000             37.790492   \n",
       "max                   0.000000      506.000000             37.927622   \n",
       "\n",
       "       end_station_longitude       bike_id  \n",
       "count          295854.000000  295854.00000  \n",
       "mean             -122.356994  321533.84539  \n",
       "std                 0.688512  307015.31534  \n",
       "min              -122.513847      12.00000  \n",
       "25%              -122.418306   11328.00000  \n",
       "50%              -122.402717  279974.00000  \n",
       "75%              -122.392546  545607.00000  \n",
       "max                 0.000000  999952.00000  "
      ]
     },
     "execution_count": 6,
     "metadata": {},
     "output_type": "execute_result"
    }
   ],
   "source": [
    "df.describe()"
   ]
  },
  {
   "cell_type": "markdown",
   "metadata": {},
   "source": [
    "##### Cleaning"
   ]
  },
  {
   "cell_type": "code",
   "execution_count": 7,
   "metadata": {},
   "outputs": [],
   "source": [
    "# change start_time & end_time to datetime format\n",
    "df['start_time'] = pd.to_datetime(df.start_time)\n",
    "df['end_time'] = pd.to_datetime(df.end_time)"
   ]
  },
  {
   "cell_type": "code",
   "execution_count": 8,
   "metadata": {},
   "outputs": [
    {
     "data": {
      "text/plain": [
       "duration_sec                    0\n",
       "start_time                      0\n",
       "end_time                        0\n",
       "start_station_id           149568\n",
       "start_station_name         148988\n",
       "start_station_latitude          0\n",
       "start_station_longitude         0\n",
       "end_station_id             149920\n",
       "end_station_name           149343\n",
       "end_station_latitude            0\n",
       "end_station_longitude           0\n",
       "bike_id                         0\n",
       "user_type                       0\n",
       "rental_access_method       110108\n",
       "dtype: int64"
      ]
     },
     "execution_count": 8,
     "metadata": {},
     "output_type": "execute_result"
    }
   ],
   "source": [
    "#check for null values\n",
    "df.isnull().sum()"
   ]
  },
  {
   "cell_type": "code",
   "execution_count": 9,
   "metadata": {},
   "outputs": [],
   "source": [
    "#keeping only values that are not null\n",
    "\n",
    "df=df[df['start_station_id'].isnull() == False]"
   ]
  },
  {
   "cell_type": "code",
   "execution_count": 10,
   "metadata": {},
   "outputs": [],
   "source": [
    "df=df[df['end_station_id'].isnull() == False] "
   ]
  },
  {
   "cell_type": "code",
   "execution_count": 11,
   "metadata": {},
   "outputs": [
    {
     "data": {
      "text/plain": [
       "duration_sec                    0\n",
       "start_time                      0\n",
       "end_time                        0\n",
       "start_station_id                0\n",
       "start_station_name              0\n",
       "start_station_latitude          0\n",
       "start_station_longitude         0\n",
       "end_station_id                  0\n",
       "end_station_name                0\n",
       "end_station_latitude            0\n",
       "end_station_longitude           0\n",
       "bike_id                         0\n",
       "user_type                       0\n",
       "rental_access_method       110108\n",
       "dtype: int64"
      ]
     },
     "execution_count": 11,
     "metadata": {},
     "output_type": "execute_result"
    }
   ],
   "source": [
    "df.isnull().sum()"
   ]
  },
  {
   "cell_type": "code",
   "execution_count": 12,
   "metadata": {},
   "outputs": [
    {
     "data": {
      "text/plain": [
       "Customer      102921\n",
       "Subscriber     21414\n",
       "Name: user_type, dtype: int64"
      ]
     },
     "execution_count": 12,
     "metadata": {},
     "output_type": "execute_result"
    }
   ],
   "source": [
    "df.user_type.value_counts()"
   ]
  },
  {
   "cell_type": "code",
   "execution_count": 13,
   "metadata": {},
   "outputs": [],
   "source": [
    "#Get weekday of start_time\n",
    "df['weekday']=df['start_time'].dt.strftime('%a')"
   ]
  },
  {
   "cell_type": "code",
   "execution_count": 14,
   "metadata": {
    "scrolled": false
   },
   "outputs": [
    {
     "data": {
      "text/plain": [
       "Fri    23426\n",
       "Wed    22515\n",
       "Thu    21793\n",
       "Tue    18914\n",
       "Mon    18370\n",
       "Sat    10408\n",
       "Sun     8909\n",
       "Name: weekday, dtype: int64"
      ]
     },
     "execution_count": 14,
     "metadata": {},
     "output_type": "execute_result"
    }
   ],
   "source": [
    "df['weekday'].value_counts()"
   ]
  },
  {
   "cell_type": "code",
   "execution_count": 15,
   "metadata": {},
   "outputs": [],
   "source": [
    "# Get the hour of the day from the start_time value\n",
    "df['hour'] = df['start_time'].dt.strftime('%H')"
   ]
  },
  {
   "cell_type": "code",
   "execution_count": 16,
   "metadata": {},
   "outputs": [
    {
     "data": {
      "text/plain": [
       "08    16019\n",
       "17    14774\n",
       "09    11497\n",
       "18    11114\n",
       "16     9556\n",
       "07     7067\n",
       "19     6641\n",
       "15     6295\n",
       "10     5751\n",
       "12     5318\n",
       "11     5285\n",
       "14     5237\n",
       "13     5176\n",
       "20     3803\n",
       "21     2879\n",
       "06     2618\n",
       "22     1729\n",
       "23     1127\n",
       "00      715\n",
       "05      708\n",
       "01      471\n",
       "02      282\n",
       "04      176\n",
       "03       97\n",
       "Name: hour, dtype: int64"
      ]
     },
     "execution_count": 16,
     "metadata": {},
     "output_type": "execute_result"
    }
   ],
   "source": [
    "df['hour'].value_counts()"
   ]
  },
  {
   "cell_type": "code",
   "execution_count": 17,
   "metadata": {},
   "outputs": [
    {
     "name": "stdout",
     "output_type": "stream",
     "text": [
      "<class 'pandas.core.frame.DataFrame'>\n",
      "Int64Index: 124335 entries, 0 to 292109\n",
      "Data columns (total 16 columns):\n",
      "duration_sec               124335 non-null int64\n",
      "start_time                 124335 non-null datetime64[ns]\n",
      "end_time                   124335 non-null datetime64[ns]\n",
      "start_station_id           124335 non-null float64\n",
      "start_station_name         124335 non-null object\n",
      "start_station_latitude     124335 non-null float64\n",
      "start_station_longitude    124335 non-null float64\n",
      "end_station_id             124335 non-null float64\n",
      "end_station_name           124335 non-null object\n",
      "end_station_latitude       124335 non-null float64\n",
      "end_station_longitude      124335 non-null float64\n",
      "bike_id                    124335 non-null int64\n",
      "user_type                  124335 non-null object\n",
      "rental_access_method       14227 non-null object\n",
      "weekday                    124335 non-null object\n",
      "hour                       124335 non-null object\n",
      "dtypes: datetime64[ns](2), float64(6), int64(2), object(6)\n",
      "memory usage: 16.1+ MB\n"
     ]
    }
   ],
   "source": [
    "df.info()"
   ]
  },
  {
   "cell_type": "markdown",
   "metadata": {},
   "source": [
    "### What is the structure of your dataset?\n",
    "\n",
    "- duration_sec: duration of each trip in seconds\n",
    "- start_time & end_time: start times and end times for each trip\n",
    "- start_station_id, start_station_name, start_station_latitude, start_station_longitude: shows starting station's information with its location   \n",
    "- end_station_id, end_station_name, end_station_latitude, end_station_longitude: shows destination station's information with its location \n",
    "- bike_id: identifies the rented bike\n",
    "- user_type: identifies user as a subscriber or customer\n",
    "- weekday: identifies the week day that the bike was rented out\n",
    "- hour: identifies the hour of the day in which bikes were rented out\n",
    "\n",
    "\n",
    "### What is/are the main feature(s) of interest in your dataset?\n",
    "\n",
    "> weekday, hour, & user_type will be the main features of interest.\n",
    "\n",
    "### What features in the dataset do you think will help support your investigation into your feature(s) of interest?\n",
    "\n",
    "> start_time, weekday, user_type, & hour"
   ]
  },
  {
   "cell_type": "markdown",
   "metadata": {},
   "source": [
    "## Univariate Exploration\n",
    "\n",
    "> In this section, investigate distributions of individual variables. If\n",
    "you see unusual points or outliers, take a deeper look to clean things up\n",
    "and prepare yourself to look at relationships between variables."
   ]
  },
  {
   "cell_type": "code",
   "execution_count": 18,
   "metadata": {
    "scrolled": false
   },
   "outputs": [
    {
     "data": {
      "text/plain": [
       "count     124335\n",
       "unique         7\n",
       "top          Fri\n",
       "freq       23426\n",
       "Name: weekday, dtype: object"
      ]
     },
     "execution_count": 18,
     "metadata": {},
     "output_type": "execute_result"
    }
   ],
   "source": [
    "df['weekday'].describe()"
   ]
  },
  {
   "cell_type": "markdown",
   "metadata": {},
   "source": [
    "### Question: What day of the week in January 2020 was GoBike rentals the highest?"
   ]
  },
  {
   "cell_type": "code",
   "execution_count": 19,
   "metadata": {
    "scrolled": false
   },
   "outputs": [
    {
     "data": {
      "image/png": "[encoded data removed]",
      "text/plain": [
       "<Figure size 360x360 with 1 Axes>"
      ]
     },
     "metadata": {
      "needs_background": "light"
     },
     "output_type": "display_data"
    }
   ],
   "source": [
    "plot = sb.catplot(data = df, x = 'weekday', kind = 'count', order=None)\n",
    "\n",
    "plot.set_axis_labels('Weekday', '# of Bike Trips'),\n",
    "\n",
    "plot.fig.suptitle('GoBike Usage by Weekday', fontsize = 15);\n"
   ]
  },
  {
   "cell_type": "markdown",
   "metadata": {},
   "source": [
    "#### Observation: The above chart shows the # of bike trips by weekday. Friday seems to be the most popular day to rent a bike as it has the highest number of bike rentals."
   ]
  },
  {
   "cell_type": "markdown",
   "metadata": {},
   "source": [
    "### Question: Do subscribers or customers rent more Gobikes?"
   ]
  },
  {
   "cell_type": "code",
   "execution_count": 20,
   "metadata": {
    "scrolled": true
   },
   "outputs": [
    {
     "data": {
      "text/plain": [
       "count       124335\n",
       "unique           2\n",
       "top       Customer\n",
       "freq        102921\n",
       "Name: user_type, dtype: object"
      ]
     },
     "execution_count": 20,
     "metadata": {},
     "output_type": "execute_result"
    }
   ],
   "source": [
    "df.user_type.describe()"
   ]
  },
  {
   "cell_type": "code",
   "execution_count": 21,
   "metadata": {},
   "outputs": [
    {
     "data": {
      "text/html": [
       "<div>\n",
       "<style scoped>\n",
       "    .dataframe tbody tr th:only-of-type {\n",
       "        vertical-align: middle;\n",
       "    }\n",
       "\n",
       "    .dataframe tbody tr th {\n",
       "        vertical-align: top;\n",
       "    }\n",
       "\n",
       "    .dataframe thead th {\n",
       "        text-align: right;\n",
       "    }\n",
       "</style>\n",
       "<table border=\"1\" class=\"dataframe\">\n",
       "  <thead>\n",
       "    <tr style=\"text-align: right;\">\n",
       "      <th></th>\n",
       "      <th>duration_sec</th>\n",
       "      <th>start_station_id</th>\n",
       "      <th>start_station_latitude</th>\n",
       "      <th>start_station_longitude</th>\n",
       "      <th>end_station_id</th>\n",
       "      <th>end_station_latitude</th>\n",
       "      <th>end_station_longitude</th>\n",
       "      <th>bike_id</th>\n",
       "    </tr>\n",
       "  </thead>\n",
       "  <tbody>\n",
       "    <tr>\n",
       "      <td>count</td>\n",
       "      <td>124335.000000</td>\n",
       "      <td>124335.000000</td>\n",
       "      <td>124335.000000</td>\n",
       "      <td>124335.000000</td>\n",
       "      <td>124335.000000</td>\n",
       "      <td>124335.000000</td>\n",
       "      <td>124335.000000</td>\n",
       "      <td>124335.000000</td>\n",
       "    </tr>\n",
       "    <tr>\n",
       "      <td>mean</td>\n",
       "      <td>793.864431</td>\n",
       "      <td>169.764829</td>\n",
       "      <td>37.778441</td>\n",
       "      <td>-122.361903</td>\n",
       "      <td>161.912905</td>\n",
       "      <td>37.776333</td>\n",
       "      <td>-122.352754</td>\n",
       "      <td>65688.421804</td>\n",
       "    </tr>\n",
       "    <tr>\n",
       "      <td>std</td>\n",
       "      <td>1903.587568</td>\n",
       "      <td>139.392848</td>\n",
       "      <td>0.080370</td>\n",
       "      <td>0.100342</td>\n",
       "      <td>138.445014</td>\n",
       "      <td>0.313440</td>\n",
       "      <td>0.986461</td>\n",
       "      <td>178882.606705</td>\n",
       "    </tr>\n",
       "    <tr>\n",
       "      <td>min</td>\n",
       "      <td>60.000000</td>\n",
       "      <td>3.000000</td>\n",
       "      <td>37.309014</td>\n",
       "      <td>-122.476104</td>\n",
       "      <td>3.000000</td>\n",
       "      <td>0.000000</td>\n",
       "      <td>-122.476104</td>\n",
       "      <td>12.000000</td>\n",
       "    </tr>\n",
       "    <tr>\n",
       "      <td>25%</td>\n",
       "      <td>355.000000</td>\n",
       "      <td>56.000000</td>\n",
       "      <td>37.770407</td>\n",
       "      <td>-122.416040</td>\n",
       "      <td>44.000000</td>\n",
       "      <td>37.771058</td>\n",
       "      <td>-122.411738</td>\n",
       "      <td>3424.000000</td>\n",
       "    </tr>\n",
       "    <tr>\n",
       "      <td>50%</td>\n",
       "      <td>566.000000</td>\n",
       "      <td>125.000000</td>\n",
       "      <td>37.780955</td>\n",
       "      <td>-122.398285</td>\n",
       "      <td>116.000000</td>\n",
       "      <td>37.781074</td>\n",
       "      <td>-122.397437</td>\n",
       "      <td>10605.000000</td>\n",
       "    </tr>\n",
       "    <tr>\n",
       "      <td>75%</td>\n",
       "      <td>884.000000</td>\n",
       "      <td>256.000000</td>\n",
       "      <td>37.798572</td>\n",
       "      <td>-122.291415</td>\n",
       "      <td>247.000000</td>\n",
       "      <td>37.800002</td>\n",
       "      <td>-122.293528</td>\n",
       "      <td>12350.000000</td>\n",
       "    </tr>\n",
       "    <tr>\n",
       "      <td>max</td>\n",
       "      <td>86221.000000</td>\n",
       "      <td>506.000000</td>\n",
       "      <td>37.880222</td>\n",
       "      <td>-121.864021</td>\n",
       "      <td>506.000000</td>\n",
       "      <td>37.880222</td>\n",
       "      <td>0.000000</td>\n",
       "      <td>998430.000000</td>\n",
       "    </tr>\n",
       "  </tbody>\n",
       "</table>\n",
       "</div>"
      ],
      "text/plain": [
       "        duration_sec  start_station_id  start_station_latitude  \\\n",
       "count  124335.000000     124335.000000           124335.000000   \n",
       "mean      793.864431        169.764829               37.778441   \n",
       "std      1903.587568        139.392848                0.080370   \n",
       "min        60.000000          3.000000               37.309014   \n",
       "25%       355.000000         56.000000               37.770407   \n",
       "50%       566.000000        125.000000               37.780955   \n",
       "75%       884.000000        256.000000               37.798572   \n",
       "max     86221.000000        506.000000               37.880222   \n",
       "\n",
       "       start_station_longitude  end_station_id  end_station_latitude  \\\n",
       "count            124335.000000   124335.000000         124335.000000   \n",
       "mean               -122.361903      161.912905             37.776333   \n",
       "std                   0.100342      138.445014              0.313440   \n",
       "min                -122.476104        3.000000              0.000000   \n",
       "25%                -122.416040       44.000000             37.771058   \n",
       "50%                -122.398285      116.000000             37.781074   \n",
       "75%                -122.291415      247.000000             37.800002   \n",
       "max                -121.864021      506.000000             37.880222   \n",
       "\n",
       "       end_station_longitude        bike_id  \n",
       "count          124335.000000  124335.000000  \n",
       "mean             -122.352754   65688.421804  \n",
       "std                 0.986461  178882.606705  \n",
       "min              -122.476104      12.000000  \n",
       "25%              -122.411738    3424.000000  \n",
       "50%              -122.397437   10605.000000  \n",
       "75%              -122.293528   12350.000000  \n",
       "max                 0.000000  998430.000000  "
      ]
     },
     "execution_count": 21,
     "metadata": {},
     "output_type": "execute_result"
    }
   ],
   "source": [
    "df.describe()"
   ]
  },
  {
   "cell_type": "code",
   "execution_count": 22,
   "metadata": {
    "scrolled": true
   },
   "outputs": [
    {
     "data": {
      "image/png": "[encoded data removed]",
      "text/plain": [
       "<Figure size 360x360 with 1 Axes>"
      ]
     },
     "metadata": {
      "needs_background": "light"
     },
     "output_type": "display_data"
    }
   ],
   "source": [
    "plot = sb.catplot(data = df, x = 'user_type', kind = 'count')\n",
    "\n",
    "plot.set_axis_labels('User Type', '# of Bike Trips'),\n",
    "\n",
    "plot.fig.suptitle('GoBike Rentals by User Type', fontsize = 15);"
   ]
  },
  {
   "cell_type": "markdown",
   "metadata": {},
   "source": [
    "#### Observation: The above chart shows the # of bike trips by user type. More customers rented Ford GoBikes than subscribers did."
   ]
  },
  {
   "cell_type": "markdown",
   "metadata": {},
   "source": [
    "### Question: How long are typical GoBike trips?"
   ]
  },
  {
   "cell_type": "code",
   "execution_count": 23,
   "metadata": {
    "scrolled": true
   },
   "outputs": [
    {
     "data": {
      "text/plain": [
       "count    124335.000000\n",
       "mean        793.864431\n",
       "std        1903.587568\n",
       "min          60.000000\n",
       "25%         355.000000\n",
       "50%         566.000000\n",
       "75%         884.000000\n",
       "max       86221.000000\n",
       "Name: duration_sec, dtype: float64"
      ]
     },
     "execution_count": 23,
     "metadata": {},
     "output_type": "execute_result"
    }
   ],
   "source": [
    "df.duration_sec.describe()"
   ]
  },
  {
   "cell_type": "code",
   "execution_count": 24,
   "metadata": {},
   "outputs": [
    {
     "data": {
      "image/png": "[encoded data removed]",
      "text/plain": [
       "<Figure size 432x288 with 1 Axes>"
      ]
     },
     "metadata": {
      "needs_background": "light"
     },
     "output_type": "display_data"
    }
   ],
   "source": [
    "bin_edges = np.arange(start=0, stop=6000, step=100)\n",
    "\n",
    "plt.hist(data = df, x = 'duration_sec', bins = bin_edges);\n",
    "\n",
    "plt.title(\"GoBike Trip Duration in Seconds\", y=1.05, fontsize=16, fontweight='bold')\n",
    "plt.xlabel('Duration (Seconds)')\n",
    "plt.ylabel('Number of Bike Trips');"
   ]
  },
  {
   "cell_type": "markdown",
   "metadata": {},
   "source": [
    "#### Observation: The above histogram shows that most GoBike trips fall under 1000 seconds or under ~17 minutes. The average GoBike trip is approximately 794 seconds or ~13 minutes."
   ]
  },
  {
   "cell_type": "markdown",
   "metadata": {},
   "source": [
    "### Discuss the distribution(s) of your variable(s) of interest. Were there any unusual points? Did you need to perform any transformations?\n",
    "\n",
    "> Fridays seem to be the most popular day of the week to rent a GoBike, followed by Wednesday. People may be more inclined to rent bikes on Fridays and use them overnight into the weekend. Saturdays and Sundays had the least number of bike rentals, but looking into end_time of respective dates might be helpful as it would account for overnight rentals that had already been made.\n",
    "\n",
    "> There seem to be more pay-by-rental customers rather than subscribers who rented GoBikes during January 2020.\n",
    "\n",
    "> Most GoBike trips fall under 1000 seconds/ ~17 minutes. The average GoBike trip is approximately 794 seconds or ~13 minutes.\n",
    "\n",
    "> No transformations were needed during this process.\n",
    "### Of the features you investigated, were there any unusual distributions? Did you perform any operations on the data to tidy, adjust, or change the form of the data? If so, why did you do this?\n",
    "\n",
    "> There were some outliers for the trip duration times, these may be overnight rentals. "
   ]
  },
  {
   "cell_type": "markdown",
   "metadata": {},
   "source": [
    "## Bivariate Exploration\n",
    "\n",
    "> In this section, investigate relationships between pairs of variables in your\n",
    "data. Make sure the variables that you cover here have been introduced in some\n",
    "fashion in the previous section (univariate exploration)."
   ]
  },
  {
   "cell_type": "code",
   "execution_count": 25,
   "metadata": {},
   "outputs": [],
   "source": [
    "#To find Gobike ride duration in minutes and hours for easier visualizations:\n",
    "df['duration_min'] = df['duration_sec']/60"
   ]
  },
  {
   "cell_type": "code",
   "execution_count": 26,
   "metadata": {},
   "outputs": [],
   "source": [
    "df['duration_hour'] = df['duration_min']/60"
   ]
  },
  {
   "cell_type": "code",
   "execution_count": 27,
   "metadata": {},
   "outputs": [],
   "source": [
    "#Change to correct datatypes\n",
    "df['duration_hour']=df['duration_hour'].astype(int)\n",
    "df['duration_min']=df['duration_min'].astype(int)\n",
    "df['hour']=df['hour'].astype(int)"
   ]
  },
  {
   "cell_type": "code",
   "execution_count": 28,
   "metadata": {
    "scrolled": false
   },
   "outputs": [
    {
     "name": "stdout",
     "output_type": "stream",
     "text": [
      "<class 'pandas.core.frame.DataFrame'>\n",
      "Int64Index: 124335 entries, 0 to 292109\n",
      "Data columns (total 18 columns):\n",
      "duration_sec               124335 non-null int64\n",
      "start_time                 124335 non-null datetime64[ns]\n",
      "end_time                   124335 non-null datetime64[ns]\n",
      "start_station_id           124335 non-null float64\n",
      "start_station_name         124335 non-null object\n",
      "start_station_latitude     124335 non-null float64\n",
      "start_station_longitude    124335 non-null float64\n",
      "end_station_id             124335 non-null float64\n",
      "end_station_name           124335 non-null object\n",
      "end_station_latitude       124335 non-null float64\n",
      "end_station_longitude      124335 non-null float64\n",
      "bike_id                    124335 non-null int64\n",
      "user_type                  124335 non-null object\n",
      "rental_access_method       14227 non-null object\n",
      "weekday                    124335 non-null object\n",
      "hour                       124335 non-null int64\n",
      "duration_min               124335 non-null int64\n",
      "duration_hour              124335 non-null int64\n",
      "dtypes: datetime64[ns](2), float64(6), int64(5), object(5)\n",
      "memory usage: 23.0+ MB\n"
     ]
    }
   ],
   "source": [
    "df.info()"
   ]
  },
  {
   "cell_type": "code",
   "execution_count": 29,
   "metadata": {},
   "outputs": [
    {
     "data": {
      "text/plain": [
       "count    124335.000000\n",
       "mean         12.740427\n",
       "std          31.727792\n",
       "min           1.000000\n",
       "25%           5.000000\n",
       "50%           9.000000\n",
       "75%          14.000000\n",
       "max        1437.000000\n",
       "Name: duration_min, dtype: float64"
      ]
     },
     "execution_count": 29,
     "metadata": {},
     "output_type": "execute_result"
    }
   ],
   "source": [
    "df['duration_min'].describe()"
   ]
  },
  {
   "cell_type": "markdown",
   "metadata": {},
   "source": [
    "### Question: How are trips distributed during the week by User Type?"
   ]
  },
  {
   "cell_type": "code",
   "execution_count": 30,
   "metadata": {},
   "outputs": [
    {
     "data": {
      "image/png": "[encoded data removed]",
      "text/plain": [
       "<Figure size 432x288 with 1 Axes>"
      ]
     },
     "metadata": {
      "needs_background": "light"
     },
     "output_type": "display_data"
    }
   ],
   "source": [
    "sb.countplot(data=df,x='weekday', palette='bright', hue='user_type')\n",
    "plt.title('Trips During the Week by User Type')\n",
    "plt.xlabel('Day of the Week')\n",
    "plt.ylabel('# of Trips');"
   ]
  },
  {
   "cell_type": "markdown",
   "metadata": {},
   "source": [
    "#### Observation: The Clustered bar chart above shows the relationhip between user types and # of trips. Fridays seem to be when customer and suscribers alike prefer to rent the most bikes/make the most trips. "
   ]
  },
  {
   "cell_type": "markdown",
   "metadata": {},
   "source": [
    "### Question: What times of the day are GoBikes being rented the most?"
   ]
  },
  {
   "cell_type": "code",
   "execution_count": 31,
   "metadata": {},
   "outputs": [
    {
     "data": {
      "image/png": "[encoded data removed]",
      "text/plain": [
       "<Figure size 432x288 with 1 Axes>"
      ]
     },
     "metadata": {
      "needs_background": "light"
     },
     "output_type": "display_data"
    }
   ],
   "source": [
    "sb.countplot(data=df, x='hour', palette='bright',hue='user_type')\n",
    "plt.title('Customer & Subscriber Rentals by the Hour')\n",
    "plt.xlabel('Hour')\n",
    "plt.ylabel('# of GoBike Rentals');"
   ]
  },
  {
   "cell_type": "markdown",
   "metadata": {},
   "source": [
    "#### Observation: 8:00AM is the most popular time of the day for customers and subscribers to rent out GoBikes, followed by 5:00PM. This may be attributed to rush hour times/work times of people who have to commute. "
   ]
  },
  {
   "cell_type": "markdown",
   "metadata": {},
   "source": [
    "### Talk about some of the relationships you observed in this part of the investigation. How did the feature(s) of interest vary with other features in the dataset?\n",
    "\n",
    "> It was easier to visualize the data by converting the duration in seconds to minutes and hours by adding additonal columns respectively. 8:00AM is the most popular time of the day for customers and subscribers to rent out GoBikes, followed by 5:00PM. This may be attributed to rush hour times/work times of people who have to commute. Fridays seem to be when customer and suscribers alike prefer to rent the most bikes/make the most trips. \n",
    "\n",
    "### Did you observe any interesting relationships between the other features (not the main feature(s) of interest)?\n",
    "\n",
    "> The average GoBike trip lasted approximately 13 minutes and the longest GoBike trip lasted 1,347 minutes or about 22 hours.\n"
   ]
  },
  {
   "cell_type": "markdown",
   "metadata": {},
   "source": [
    "## Multivariate Exploration\n",
    "\n",
    "> Create plots of three or more variables to investigate your data even\n",
    "further. Make sure that your investigations are justified, and follow from\n",
    "your work in the previous sections."
   ]
  },
  {
   "cell_type": "markdown",
   "metadata": {},
   "source": [
    "### Question: How long do subscribers rent GoBikes for throughout the week?"
   ]
  },
  {
   "cell_type": "code",
   "execution_count": 32,
   "metadata": {},
   "outputs": [],
   "source": [
    "subscriber= df.loc[df['user_type'] == \"Subscriber\"]"
   ]
  },
  {
   "cell_type": "code",
   "execution_count": 33,
   "metadata": {
    "scrolled": true
   },
   "outputs": [
    {
     "data": {
      "image/png": "[encoded data removed]",
      "text/plain": [
       "<Figure size 432x288 with 1 Axes>"
      ]
     },
     "metadata": {
      "needs_background": "light"
     },
     "output_type": "display_data"
    }
   ],
   "source": [
    "plt.scatter(data = subscriber, x = 'weekday', y = 'duration_min', color='coral')\n",
    "plt.title('Rental durations of subscribers throughout the week')\n",
    "plt.xlabel('Day of the Week')\n",
    "plt.ylabel('Duration (Min)');"
   ]
  },
  {
   "cell_type": "markdown",
   "metadata": {},
   "source": [
    "#### Observation: Subscribers rent GoBikes for longer times on Fridays as compared to other days of the week."
   ]
  },
  {
   "cell_type": "markdown",
   "metadata": {},
   "source": [
    "### User Type vs. Duration vs. Weekday "
   ]
  },
  {
   "cell_type": "code",
   "execution_count": 40,
   "metadata": {},
   "outputs": [
    {
     "data": {
      "image/png": "[encoded data removed]",
      "text/plain": [
       "<Figure size 449.125x360 with 1 Axes>"
      ]
     },
     "metadata": {
      "needs_background": "light"
     },
     "output_type": "display_data"
    }
   ],
   "source": [
    "facet= sb.FacetGrid(data = df, hue = 'user_type', size = 5)\n",
    "facet.map(plt.scatter, 'weekday', 'duration_min')\n",
    "plt.title('User Type vs. Duration vs. Weekday')\n",
    "facet.add_legend();"
   ]
  },
  {
   "cell_type": "markdown",
   "metadata": {},
   "source": [
    "#### Observation: More subscribers rent GoBikes for longer times on Fridays as compared to other days of the week. More customers rent GoBikes for longer periods on Mondays."
   ]
  },
  {
   "cell_type": "markdown",
   "metadata": {},
   "source": [
    "### Scatter plots showing correlations between variables: duration (minutes), hour (hour of day rented out), & start_time(timestamp of when bike was rented out)"
   ]
  },
  {
   "cell_type": "code",
   "execution_count": 41,
   "metadata": {},
   "outputs": [
    {
     "name": "stderr",
     "output_type": "stream",
     "text": [
      "/opt/anaconda3/lib/python3.7/site-packages/pandas/plotting/_matplotlib/converter.py:103: FutureWarning: Using an implicitly registered datetime converter for a matplotlib plotting method. The converter was registered by pandas on import. Future versions of pandas will require you to explicitly register matplotlib converters.\n",
      "\n",
      "To register the converters:\n",
      "\t>>> from pandas.plotting import register_matplotlib_converters\n",
      "\t>>> register_matplotlib_converters()\n",
      "  warnings.warn(msg, FutureWarning)\n"
     ]
    },
    {
     "data": {
      "image/png": "[encoded data removed]",
      "text/plain": [
       "<Figure size 540x540 with 12 Axes>"
      ]
     },
     "metadata": {
      "needs_background": "light"
     },
     "output_type": "display_data"
    }
   ],
   "source": [
    "g = sb.PairGrid(data = df, vars = ['duration_min', 'hour', 'start_time'])\n",
    "g.map_diag(plt.hist)\n",
    "g.map_offdiag(plt.scatter);"
   ]
  },
  {
   "cell_type": "markdown",
   "metadata": {},
   "source": [
    "#### Observation: Hour & start_time show a direct correlation because the hour data was extracted directly from start_time. "
   ]
  },
  {
   "cell_type": "markdown",
   "metadata": {},
   "source": [
    "### Correlation Heat Map of all variables: "
   ]
  },
  {
   "cell_type": "code",
   "execution_count": 42,
   "metadata": {},
   "outputs": [
    {
     "data": {
      "image/png": "[encoded data removed]",
      "text/plain": [
       "<Figure size 576x576 with 2 Axes>"
      ]
     },
     "metadata": {
      "needs_background": "light"
     },
     "output_type": "display_data"
    }
   ],
   "source": [
    "plt.figure(figsize = [8, 8])\n",
    "heatmap=sb.heatmap(df.corr(), annot = True, cmap = 'PiYG', center = 0);\n",
    "bottom, top = heatmap.get_ylim()\n",
    "heatmap.set_ylim(bottom + 0.5, top - 0.5);"
   ]
  },
  {
   "cell_type": "markdown",
   "metadata": {},
   "source": [
    "#### Observation: The correlation heatmap shows a more positive correlation between the greener boxes. For example, start_station_longitude shows a slight correlation with end_station_id & start_station_latitude also shows a slight correlation with end_station_latitude. Whereas end_station_latitude shows a more negative correlation with end_station_longitude according to the heatmap. When studying correlational relationships, it is important to note that correlation does not imply causation. "
   ]
  },
  {
   "cell_type": "markdown",
   "metadata": {},
   "source": [
    "### Talk about some of the relationships you observed in this part of the investigation. Were there features that strengthened each other in terms of looking at your feature(s) of interest?\n",
    "\n",
    "> More subscribers rent GoBikes for longer times on Fridays as compared to other days of the week. More customers rent GoBikes for longer periods on Mondays. Comparing the data to previous charts, Friday is also the most popular week day to rent a GoBike for subscribers and customers alike. \n",
    "\n",
    "### Were there any interesting or surprising interactions between features?\n",
    "\n",
    "> It was interesting to see that subscribers usually rent out GoBikes for longer times on Fridays whereas more customers rent for longer periods of time on Mondays.\n",
    "> Surprisingly, many customers rent GoBikes for longer time intervals on weekdays, possibly suggesting these riders use GoBikes to commute to their jobs."
   ]
  },
  {
   "cell_type": "code",
   "execution_count": null,
   "metadata": {},
   "outputs": [],
   "source": []
  }
 ],
 "metadata": {
  "kernelspec": {
   "display_name": "Python 3",
   "language": "python",
   "name": "python3"
  },
  "language_info": {
   "codemirror_mode": {
    "name": "ipython",
    "version": 3
   },
   "file_extension": ".py",
   "mimetype": "text/x-python",
   "name": "python",
   "nbconvert_exporter": "python",
   "pygments_lexer": "ipython3",
   "version": "3.7.4"
  }
 },
 "nbformat": 4,
 "nbformat_minor": 2
}
